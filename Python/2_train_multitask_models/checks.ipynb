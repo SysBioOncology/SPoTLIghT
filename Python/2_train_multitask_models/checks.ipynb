{
 "cells": [
  {
   "cell_type": "code",
   "execution_count": 52,
   "metadata": {},
   "outputs": [],
   "source": [
    "\"\"\" Compute and combine cell type abundances from different quantification methods necessary for TF learning\n",
    "Args: \n",
    "    clinical_file (str): path pointing to a txt or tsv file\n",
    "    path_published_data (str): path pointing to a folder containing published computed features\n",
    "    path_computed_features (str): path pointing to a folder containing the files generated with immunedeconv\n",
    "    data_path (str): path pointing to a folder where the dataframe containing all features should be stored, stored as .txt file\n",
    "\n",
    "Returns: \n",
    "    ./task_selection_names.pkl: pickle file containing variable names. \n",
    "    {data_path}/TCGA_{cancer_type}_ensembled_selected_tasks.csv\" containing the following cell type quantification methods: \n",
    "        tumor_purity = [\n",
    "            'tumor purity (ABSOLUTE)',\n",
    "            'tumor purity (ESTIMATE)',\n",
    "            'tumor purity (EPIC)'\n",
    "        ]\n",
    "\n",
    "        T_cells = [\n",
    "            'CD8 T cells (Thorsson)', \n",
    "            'Cytotoxic cells',\n",
    "            'Effector cells',\n",
    "            'CD8 T cells (quanTIseq)', \n",
    "            'TIL score',\n",
    "            'Immune score', \n",
    "        ]\n",
    "\n",
    "        endothelial_cells = [\n",
    "            'Endothelial cells (xCell)',\n",
    "            'Endothelial cells (EPIC)', \n",
    "            'Endothelium', ]\n",
    "\n",
    "        CAFs = [\n",
    "            'Stromal score',\n",
    "            'CAFs (MCP counter)', \n",
    "            'CAFs (EPIC)',\n",
    "            'CAFs (Bagaev)',\n",
    "        ]\n",
    "\n",
    "\"\"\"\n",
    "\n",
    "import os\n",
    "import sys\n",
    "\n",
    "import matplotlib.pyplot as plt\n",
    "import numpy as np\n",
    "import pandas as pd\n",
    "import seaborn as sns\n",
    "\n",
    "sys.path.append(f\"{os.path.dirname(os.getcwd())}/libs\")\n",
    "import joblib\n",
    "import model.preprocessing as preprocessing"
   ]
  },
  {
   "cell_type": "code",
   "execution_count": 53,
   "metadata": {},
   "outputs": [],
   "source": [
    "# Final feature selection\n",
    "tumor_purity = [\n",
    "    'tumor purity (ABSOLUTE)',\n",
    "    'tumor purity (ESTIMATE)',\n",
    "    'tumor purity (EPIC)'\n",
    "]\n",
    "\n",
    "T_cells = [\n",
    "    'CD8 T cells (Thorsson)', \n",
    "    'Cytotoxic cells',\n",
    "    'Effector cells',\n",
    "    'CD8 T cells (quanTIseq)', \n",
    "    'TIL score',\n",
    "    'Immune score', \n",
    "]\n",
    "\n",
    "endothelial_cells = [\n",
    "    'Endothelial cells (xCell)',\n",
    "    'Endothelial cells (EPIC)', \n",
    "    'Endothelium', ]\n",
    "\n",
    "CAFs = [\n",
    "    'Stromal score',\n",
    "    'CAFs (MCP counter)', \n",
    "    'CAFs (EPIC)',\n",
    "    'CAFs (Bagaev)',\n",
    "]\n",
    "\n",
    "IDs = ['slide_submitter_id', 'sample_submitter_id',\n",
    "    ]\n",
    "\n",
    "tile_vars = ['Section', 'Coord_X', 'Coord_Y', \"tile_ID\"]\n",
    "var_dict = {\n",
    "    \"CAFs\": CAFs, \n",
    "    \"T_cells\": T_cells,\n",
    "    \"tumor_purity\": tumor_purity,\n",
    "    \"endothelial_cells\": endothelial_cells,\n",
    "    \"IDs\":IDs,\n",
    "    \"tile_IDs\": tile_vars\n",
    "}\n"
   ]
  },
  {
   "cell_type": "code",
   "execution_count": 63,
   "metadata": {},
   "outputs": [],
   "source": [
    "ensembled_tasks = pd.read_csv(\"/Users/joankant/Library/CloudStorage/OneDrive-TUEindhoven/spotlight/data/TCGA_FF_SKCM_ensembled_selected_tasks.csv\", sep=\"\\t\")"
   ]
  },
  {
   "cell_type": "code",
   "execution_count": 64,
   "metadata": {},
   "outputs": [
    {
     "data": {
      "text/html": [
       "<div>\n",
       "<style scoped>\n",
       "    .dataframe tbody tr th:only-of-type {\n",
       "        vertical-align: middle;\n",
       "    }\n",
       "\n",
       "    .dataframe tbody tr th {\n",
       "        vertical-align: top;\n",
       "    }\n",
       "\n",
       "    .dataframe thead th {\n",
       "        text-align: right;\n",
       "    }\n",
       "</style>\n",
       "<table border=\"1\" class=\"dataframe\">\n",
       "  <thead>\n",
       "    <tr style=\"text-align: right;\">\n",
       "      <th></th>\n",
       "      <th>Unnamed: 0</th>\n",
       "      <th>slide_submitter_id</th>\n",
       "      <th>sample_submitter_id</th>\n",
       "      <th>Stromal score</th>\n",
       "      <th>CAFs (MCP counter)</th>\n",
       "      <th>CAFs (EPIC)</th>\n",
       "      <th>CAFs (Bagaev)</th>\n",
       "      <th>Endothelial cells (xCell)</th>\n",
       "      <th>Endothelial cells (EPIC)</th>\n",
       "      <th>Endothelium</th>\n",
       "      <th>CD8 T cells (Thorsson)</th>\n",
       "      <th>Cytotoxic cells</th>\n",
       "      <th>Effector cells</th>\n",
       "      <th>CD8 T cells (quanTIseq)</th>\n",
       "      <th>TIL score</th>\n",
       "      <th>Immune score</th>\n",
       "      <th>tumor purity (ABSOLUTE)</th>\n",
       "      <th>tumor purity (ESTIMATE)</th>\n",
       "      <th>tumor purity (EPIC)</th>\n",
       "    </tr>\n",
       "  </thead>\n",
       "  <tbody>\n",
       "    <tr>\n",
       "      <th>0</th>\n",
       "      <td>0</td>\n",
       "      <td>TCGA-D3-A8GP-06A-01-TSA</td>\n",
       "      <td>TCGA-D3-A8GP-06A</td>\n",
       "      <td>-1344.95</td>\n",
       "      <td>12.365915</td>\n",
       "      <td>-0.558672</td>\n",
       "      <td>-1.405636</td>\n",
       "      <td>-9.965784</td>\n",
       "      <td>0.398655</td>\n",
       "      <td>-0.791017</td>\n",
       "      <td>NaN</td>\n",
       "      <td>-0.792303</td>\n",
       "      <td>-0.322414</td>\n",
       "      <td>-1.050480</td>\n",
       "      <td>NaN</td>\n",
       "      <td>-701.88</td>\n",
       "      <td>0.96</td>\n",
       "      <td>0.953987</td>\n",
       "      <td>6.554462</td>\n",
       "    </tr>\n",
       "    <tr>\n",
       "      <th>1</th>\n",
       "      <td>1</td>\n",
       "      <td>TCGA-D3-A8GP-06A-02-TSB</td>\n",
       "      <td>TCGA-D3-A8GP-06A</td>\n",
       "      <td>-1344.95</td>\n",
       "      <td>12.365915</td>\n",
       "      <td>-0.558672</td>\n",
       "      <td>-1.405636</td>\n",
       "      <td>-9.965784</td>\n",
       "      <td>0.398655</td>\n",
       "      <td>-0.791017</td>\n",
       "      <td>NaN</td>\n",
       "      <td>-0.792303</td>\n",
       "      <td>-0.322414</td>\n",
       "      <td>-1.050480</td>\n",
       "      <td>NaN</td>\n",
       "      <td>-701.88</td>\n",
       "      <td>0.96</td>\n",
       "      <td>0.953987</td>\n",
       "      <td>6.554462</td>\n",
       "    </tr>\n",
       "    <tr>\n",
       "      <th>2</th>\n",
       "      <td>2</td>\n",
       "      <td>TCGA-RP-A693-06A-01-TSA</td>\n",
       "      <td>TCGA-RP-A693-06A</td>\n",
       "      <td>-111.96</td>\n",
       "      <td>14.026881</td>\n",
       "      <td>1.472494</td>\n",
       "      <td>0.034285</td>\n",
       "      <td>1.381597</td>\n",
       "      <td>1.486456</td>\n",
       "      <td>0.980811</td>\n",
       "      <td>NaN</td>\n",
       "      <td>0.317324</td>\n",
       "      <td>0.694457</td>\n",
       "      <td>1.946440</td>\n",
       "      <td>NaN</td>\n",
       "      <td>1021.12</td>\n",
       "      <td>0.32</td>\n",
       "      <td>0.739519</td>\n",
       "      <td>6.392896</td>\n",
       "    </tr>\n",
       "    <tr>\n",
       "      <th>3</th>\n",
       "      <td>3</td>\n",
       "      <td>TCGA-EE-A3JD-06A-01-TSA</td>\n",
       "      <td>TCGA-EE-A3JD-06A</td>\n",
       "      <td>171.95</td>\n",
       "      <td>13.045782</td>\n",
       "      <td>0.177346</td>\n",
       "      <td>-0.953539</td>\n",
       "      <td>0.172958</td>\n",
       "      <td>1.346354</td>\n",
       "      <td>1.078788</td>\n",
       "      <td>NaN</td>\n",
       "      <td>0.643999</td>\n",
       "      <td>1.877063</td>\n",
       "      <td>3.106620</td>\n",
       "      <td>NaN</td>\n",
       "      <td>2555.57</td>\n",
       "      <td>0.18</td>\n",
       "      <td>0.535787</td>\n",
       "      <td>6.133479</td>\n",
       "    </tr>\n",
       "    <tr>\n",
       "      <th>4</th>\n",
       "      <td>4</td>\n",
       "      <td>TCGA-FS-A4FC-06A-01-TS1</td>\n",
       "      <td>TCGA-FS-A4FC-06A</td>\n",
       "      <td>-354.19</td>\n",
       "      <td>14.808803</td>\n",
       "      <td>2.431991</td>\n",
       "      <td>1.194521</td>\n",
       "      <td>-9.965784</td>\n",
       "      <td>1.319356</td>\n",
       "      <td>0.237883</td>\n",
       "      <td>NaN</td>\n",
       "      <td>-0.225290</td>\n",
       "      <td>-0.333677</td>\n",
       "      <td>-1.005219</td>\n",
       "      <td>NaN</td>\n",
       "      <td>-60.20</td>\n",
       "      <td>0.59</td>\n",
       "      <td>0.855563</td>\n",
       "      <td>6.446450</td>\n",
       "    </tr>\n",
       "    <tr>\n",
       "      <th>...</th>\n",
       "      <td>...</td>\n",
       "      <td>...</td>\n",
       "      <td>...</td>\n",
       "      <td>...</td>\n",
       "      <td>...</td>\n",
       "      <td>...</td>\n",
       "      <td>...</td>\n",
       "      <td>...</td>\n",
       "      <td>...</td>\n",
       "      <td>...</td>\n",
       "      <td>...</td>\n",
       "      <td>...</td>\n",
       "      <td>...</td>\n",
       "      <td>...</td>\n",
       "      <td>...</td>\n",
       "      <td>...</td>\n",
       "      <td>...</td>\n",
       "      <td>...</td>\n",
       "      <td>...</td>\n",
       "    </tr>\n",
       "    <tr>\n",
       "      <th>378</th>\n",
       "      <td>378</td>\n",
       "      <td>TCGA-ER-A194-01A-01-TSA</td>\n",
       "      <td>TCGA-ER-A194-01A</td>\n",
       "      <td>-45.32</td>\n",
       "      <td>13.492952</td>\n",
       "      <td>1.210905</td>\n",
       "      <td>0.433563</td>\n",
       "      <td>3.515978</td>\n",
       "      <td>1.754101</td>\n",
       "      <td>2.188783</td>\n",
       "      <td>0.9506</td>\n",
       "      <td>0.421537</td>\n",
       "      <td>1.153937</td>\n",
       "      <td>0.896493</td>\n",
       "      <td>0.393</td>\n",
       "      <td>1117.54</td>\n",
       "      <td>0.60</td>\n",
       "      <td>0.723197</td>\n",
       "      <td>6.495422</td>\n",
       "    </tr>\n",
       "    <tr>\n",
       "      <th>379</th>\n",
       "      <td>379</td>\n",
       "      <td>TCGA-EE-A2MH-06A-01-TSA</td>\n",
       "      <td>TCGA-EE-A2MH-06A</td>\n",
       "      <td>-466.25</td>\n",
       "      <td>12.613355</td>\n",
       "      <td>-0.395582</td>\n",
       "      <td>-0.835996</td>\n",
       "      <td>2.285915</td>\n",
       "      <td>1.099373</td>\n",
       "      <td>1.341252</td>\n",
       "      <td>NaN</td>\n",
       "      <td>0.327490</td>\n",
       "      <td>1.265409</td>\n",
       "      <td>1.950049</td>\n",
       "      <td>NaN</td>\n",
       "      <td>1472.69</td>\n",
       "      <td>0.43</td>\n",
       "      <td>0.729831</td>\n",
       "      <td>6.422688</td>\n",
       "    </tr>\n",
       "    <tr>\n",
       "      <th>380</th>\n",
       "      <td>380</td>\n",
       "      <td>TCGA-EE-A3AF-06A-01-TSA</td>\n",
       "      <td>TCGA-EE-A3AF-06A</td>\n",
       "      <td>-225.54</td>\n",
       "      <td>13.956627</td>\n",
       "      <td>1.871160</td>\n",
       "      <td>0.340345</td>\n",
       "      <td>-9.965784</td>\n",
       "      <td>0.202723</td>\n",
       "      <td>-0.229261</td>\n",
       "      <td>NaN</td>\n",
       "      <td>-0.038672</td>\n",
       "      <td>0.362225</td>\n",
       "      <td>0.714307</td>\n",
       "      <td>NaN</td>\n",
       "      <td>862.83</td>\n",
       "      <td>0.78</td>\n",
       "      <td>0.765786</td>\n",
       "      <td>6.490166</td>\n",
       "    </tr>\n",
       "    <tr>\n",
       "      <th>381</th>\n",
       "      <td>381</td>\n",
       "      <td>TCGA-EE-A2MU-06A-02-TSB</td>\n",
       "      <td>TCGA-EE-A2MU-06A</td>\n",
       "      <td>375.11</td>\n",
       "      <td>15.927067</td>\n",
       "      <td>4.209411</td>\n",
       "      <td>1.266537</td>\n",
       "      <td>-9.965784</td>\n",
       "      <td>-2.461748</td>\n",
       "      <td>0.000569</td>\n",
       "      <td>NaN</td>\n",
       "      <td>0.596499</td>\n",
       "      <td>1.661315</td>\n",
       "      <td>2.790765</td>\n",
       "      <td>NaN</td>\n",
       "      <td>1806.58</td>\n",
       "      <td>0.29</td>\n",
       "      <td>0.601648</td>\n",
       "      <td>6.178854</td>\n",
       "    </tr>\n",
       "    <tr>\n",
       "      <th>382</th>\n",
       "      <td>382</td>\n",
       "      <td>TCGA-EE-A2MD-06A-01-TSA</td>\n",
       "      <td>TCGA-EE-A2MD-06A</td>\n",
       "      <td>-734.32</td>\n",
       "      <td>13.689184</td>\n",
       "      <td>2.073051</td>\n",
       "      <td>-0.727678</td>\n",
       "      <td>-9.965784</td>\n",
       "      <td>-0.753840</td>\n",
       "      <td>-0.625993</td>\n",
       "      <td>NaN</td>\n",
       "      <td>-0.330836</td>\n",
       "      <td>-0.172356</td>\n",
       "      <td>-0.605996</td>\n",
       "      <td>NaN</td>\n",
       "      <td>98.21</td>\n",
       "      <td>0.63</td>\n",
       "      <td>0.871956</td>\n",
       "      <td>6.351655</td>\n",
       "    </tr>\n",
       "  </tbody>\n",
       "</table>\n",
       "<p>383 rows × 19 columns</p>\n",
       "</div>"
      ],
      "text/plain": [
       "     Unnamed: 0       slide_submitter_id sample_submitter_id  Stromal score  \\\n",
       "0             0  TCGA-D3-A8GP-06A-01-TSA    TCGA-D3-A8GP-06A       -1344.95   \n",
       "1             1  TCGA-D3-A8GP-06A-02-TSB    TCGA-D3-A8GP-06A       -1344.95   \n",
       "2             2  TCGA-RP-A693-06A-01-TSA    TCGA-RP-A693-06A        -111.96   \n",
       "3             3  TCGA-EE-A3JD-06A-01-TSA    TCGA-EE-A3JD-06A         171.95   \n",
       "4             4  TCGA-FS-A4FC-06A-01-TS1    TCGA-FS-A4FC-06A        -354.19   \n",
       "..          ...                      ...                 ...            ...   \n",
       "378         378  TCGA-ER-A194-01A-01-TSA    TCGA-ER-A194-01A         -45.32   \n",
       "379         379  TCGA-EE-A2MH-06A-01-TSA    TCGA-EE-A2MH-06A        -466.25   \n",
       "380         380  TCGA-EE-A3AF-06A-01-TSA    TCGA-EE-A3AF-06A        -225.54   \n",
       "381         381  TCGA-EE-A2MU-06A-02-TSB    TCGA-EE-A2MU-06A         375.11   \n",
       "382         382  TCGA-EE-A2MD-06A-01-TSA    TCGA-EE-A2MD-06A        -734.32   \n",
       "\n",
       "     CAFs (MCP counter)  CAFs (EPIC)  CAFs (Bagaev)  \\\n",
       "0             12.365915    -0.558672      -1.405636   \n",
       "1             12.365915    -0.558672      -1.405636   \n",
       "2             14.026881     1.472494       0.034285   \n",
       "3             13.045782     0.177346      -0.953539   \n",
       "4             14.808803     2.431991       1.194521   \n",
       "..                  ...          ...            ...   \n",
       "378           13.492952     1.210905       0.433563   \n",
       "379           12.613355    -0.395582      -0.835996   \n",
       "380           13.956627     1.871160       0.340345   \n",
       "381           15.927067     4.209411       1.266537   \n",
       "382           13.689184     2.073051      -0.727678   \n",
       "\n",
       "     Endothelial cells (xCell)  Endothelial cells (EPIC)  Endothelium  \\\n",
       "0                    -9.965784                  0.398655    -0.791017   \n",
       "1                    -9.965784                  0.398655    -0.791017   \n",
       "2                     1.381597                  1.486456     0.980811   \n",
       "3                     0.172958                  1.346354     1.078788   \n",
       "4                    -9.965784                  1.319356     0.237883   \n",
       "..                         ...                       ...          ...   \n",
       "378                   3.515978                  1.754101     2.188783   \n",
       "379                   2.285915                  1.099373     1.341252   \n",
       "380                  -9.965784                  0.202723    -0.229261   \n",
       "381                  -9.965784                 -2.461748     0.000569   \n",
       "382                  -9.965784                 -0.753840    -0.625993   \n",
       "\n",
       "     CD8 T cells (Thorsson)  Cytotoxic cells  Effector cells  \\\n",
       "0                       NaN        -0.792303       -0.322414   \n",
       "1                       NaN        -0.792303       -0.322414   \n",
       "2                       NaN         0.317324        0.694457   \n",
       "3                       NaN         0.643999        1.877063   \n",
       "4                       NaN        -0.225290       -0.333677   \n",
       "..                      ...              ...             ...   \n",
       "378                  0.9506         0.421537        1.153937   \n",
       "379                     NaN         0.327490        1.265409   \n",
       "380                     NaN        -0.038672        0.362225   \n",
       "381                     NaN         0.596499        1.661315   \n",
       "382                     NaN        -0.330836       -0.172356   \n",
       "\n",
       "     CD8 T cells (quanTIseq)  TIL score  Immune score  \\\n",
       "0                  -1.050480        NaN       -701.88   \n",
       "1                  -1.050480        NaN       -701.88   \n",
       "2                   1.946440        NaN       1021.12   \n",
       "3                   3.106620        NaN       2555.57   \n",
       "4                  -1.005219        NaN        -60.20   \n",
       "..                       ...        ...           ...   \n",
       "378                 0.896493      0.393       1117.54   \n",
       "379                 1.950049        NaN       1472.69   \n",
       "380                 0.714307        NaN        862.83   \n",
       "381                 2.790765        NaN       1806.58   \n",
       "382                -0.605996        NaN         98.21   \n",
       "\n",
       "     tumor purity (ABSOLUTE)  tumor purity (ESTIMATE)  tumor purity (EPIC)  \n",
       "0                       0.96                 0.953987             6.554462  \n",
       "1                       0.96                 0.953987             6.554462  \n",
       "2                       0.32                 0.739519             6.392896  \n",
       "3                       0.18                 0.535787             6.133479  \n",
       "4                       0.59                 0.855563             6.446450  \n",
       "..                       ...                      ...                  ...  \n",
       "378                     0.60                 0.723197             6.495422  \n",
       "379                     0.43                 0.729831             6.422688  \n",
       "380                     0.78                 0.765786             6.490166  \n",
       "381                     0.29                 0.601648             6.178854  \n",
       "382                     0.63                 0.871956             6.351655  \n",
       "\n",
       "[383 rows x 19 columns]"
      ]
     },
     "execution_count": 64,
     "metadata": {},
     "output_type": "execute_result"
    }
   ],
   "source": [
    "ensembled_tasks"
   ]
  },
  {
   "cell_type": "code",
   "execution_count": 65,
   "metadata": {},
   "outputs": [
    {
     "data": {
      "text/plain": [
       "<AxesSubplot:>"
      ]
     },
     "execution_count": 65,
     "metadata": {},
     "output_type": "execute_result"
    },
    {
     "data": {
      "image/png": "[encoded data removed]",
      "text/plain": [
       "<Figure size 432x288 with 2 Axes>"
      ]
     },
     "metadata": {
      "needs_background": "light"
     },
     "output_type": "display_data"
    }
   ],
   "source": [
    "sns.heatmap(ensembled_tasks.isna().transpose(),\n",
    "            cmap=\"YlGnBu\",\n",
    "            cbar_kws={'label': 'Missing Data'})"
   ]
  },
  {
   "cell_type": "code",
   "execution_count": 66,
   "metadata": {},
   "outputs": [
    {
     "data": {
      "text/plain": [
       "Unnamed: 0                   0.000000\n",
       "slide_submitter_id           0.000000\n",
       "sample_submitter_id          0.000000\n",
       "Stromal score                0.007833\n",
       "CAFs (MCP counter)           0.013055\n",
       "CAFs (EPIC)                  0.013055\n",
       "CAFs (Bagaev)                0.013055\n",
       "Endothelial cells (xCell)    0.013055\n",
       "Endothelial cells (EPIC)     0.013055\n",
       "Endothelium                  0.013055\n",
       "CD8 T cells (Thorsson)       0.796345\n",
       "Cytotoxic cells              0.010444\n",
       "Effector cells               0.013055\n",
       "CD8 T cells (quanTIseq)      0.013055\n",
       "TIL score                    0.796345\n",
       "Immune score                 0.007833\n",
       "tumor purity (ABSOLUTE)      0.023499\n",
       "tumor purity (ESTIMATE)      0.007833\n",
       "tumor purity (EPIC)          0.013055\n",
       "dtype: float64"
      ]
     },
     "execution_count": 66,
     "metadata": {},
     "output_type": "execute_result"
    }
   ],
   "source": [
    "(ensembled_tasks.isna().transpose().sum(axis=1)) / len(ensembled_tasks) #"
   ]
  },
  {
   "cell_type": "code",
   "execution_count": 67,
   "metadata": {},
   "outputs": [
    {
     "data": {
      "text/plain": [
       "383"
      ]
     },
     "execution_count": 67,
     "metadata": {},
     "output_type": "execute_result"
    }
   ],
   "source": [
    "len(ensembled_tasks)"
   ]
  },
  {
   "cell_type": "code",
   "execution_count": 68,
   "metadata": {},
   "outputs": [
    {
     "name": "stdout",
     "output_type": "stream",
     "text": [
      "382\n"
     ]
    },
    {
     "data": {
      "text/plain": [
       "tumor purity (ABSOLUTE)    0.020942\n",
       "tumor purity (ESTIMATE)    0.005236\n",
       "tumor purity (EPIC)        0.010471\n",
       "dtype: float64"
      ]
     },
     "metadata": {},
     "output_type": "display_data"
    },
    {
     "data": {
      "text/plain": [
       "tumor purity (ABSOLUTE)    8\n",
       "tumor purity (ESTIMATE)    2\n",
       "tumor purity (EPIC)        4\n",
       "dtype: int64"
      ]
     },
     "metadata": {},
     "output_type": "display_data"
    },
    {
     "name": "stdout",
     "output_type": "stream",
     "text": [
      "370\n"
     ]
    }
   ],
   "source": [
    "tmp = ensembled_tasks[tumor_purity].dropna(how=\"all\")\n",
    "print(len(tmp))\n",
    "display((tmp.isna().transpose().sum(axis=1)) / len(tmp))\n",
    "display((tmp.isna().transpose().sum(axis=1)))\n",
    "print(len(tmp.dropna(how=\"any\")))"
   ]
  },
  {
   "cell_type": "code",
   "execution_count": 69,
   "metadata": {},
   "outputs": [
    {
     "name": "stdout",
     "output_type": "stream",
     "text": [
      "381\n"
     ]
    },
    {
     "data": {
      "text/plain": [
       "CD8 T cells (Thorsson)     0.795276\n",
       "Cytotoxic cells            0.005249\n",
       "Effector cells             0.007874\n",
       "CD8 T cells (quanTIseq)    0.007874\n",
       "TIL score                  0.795276\n",
       "Immune score               0.002625\n",
       "dtype: float64"
      ]
     },
     "metadata": {},
     "output_type": "display_data"
    },
    {
     "data": {
      "text/plain": [
       "CD8 T cells (Thorsson)     303\n",
       "Cytotoxic cells              2\n",
       "Effector cells               3\n",
       "CD8 T cells (quanTIseq)      3\n",
       "TIL score                  303\n",
       "Immune score                 1\n",
       "dtype: int64"
      ]
     },
     "metadata": {},
     "output_type": "display_data"
    },
    {
     "name": "stdout",
     "output_type": "stream",
     "text": [
      "77\n"
     ]
    }
   ],
   "source": [
    "tmp = ensembled_tasks[T_cells].dropna(how=\"all\")\n",
    "print(len(tmp))\n",
    "display((tmp.isna().transpose().sum(axis=1)) / len(tmp))\n",
    "display((tmp.isna().transpose().sum(axis=1)))\n",
    "print(len(tmp.dropna(how=\"any\")))"
   ]
  },
  {
   "cell_type": "code",
   "execution_count": 70,
   "metadata": {},
   "outputs": [
    {
     "name": "stdout",
     "output_type": "stream",
     "text": [
      "380\n"
     ]
    },
    {
     "data": {
      "text/plain": [
       "Stromal score         0.000000\n",
       "CAFs (MCP counter)    0.005263\n",
       "CAFs (EPIC)           0.005263\n",
       "CAFs (Bagaev)         0.005263\n",
       "dtype: float64"
      ]
     },
     "metadata": {},
     "output_type": "display_data"
    },
    {
     "data": {
      "text/plain": [
       "Stromal score         0\n",
       "CAFs (MCP counter)    2\n",
       "CAFs (EPIC)           2\n",
       "CAFs (Bagaev)         2\n",
       "dtype: int64"
      ]
     },
     "metadata": {},
     "output_type": "display_data"
    },
    {
     "name": "stdout",
     "output_type": "stream",
     "text": [
      "378\n"
     ]
    }
   ],
   "source": [
    "tmp = ensembled_tasks[CAFs].dropna(how=\"all\")\n",
    "print(len(tmp))\n",
    "display((tmp.isna().transpose().sum(axis=1)) / len(tmp))\n",
    "display((tmp.isna().transpose().sum(axis=1)))\n",
    "print(len(tmp.dropna(how=\"any\")))"
   ]
  },
  {
   "cell_type": "code",
   "execution_count": 71,
   "metadata": {},
   "outputs": [
    {
     "name": "stdout",
     "output_type": "stream",
     "text": [
      "378\n"
     ]
    },
    {
     "data": {
      "text/plain": [
       "Endothelial cells (xCell)    0.0\n",
       "Endothelial cells (EPIC)     0.0\n",
       "Endothelium                  0.0\n",
       "dtype: float64"
      ]
     },
     "metadata": {},
     "output_type": "display_data"
    },
    {
     "data": {
      "text/plain": [
       "Endothelial cells (xCell)    0\n",
       "Endothelial cells (EPIC)     0\n",
       "Endothelium                  0\n",
       "dtype: int64"
      ]
     },
     "metadata": {},
     "output_type": "display_data"
    },
    {
     "name": "stdout",
     "output_type": "stream",
     "text": [
      "378\n"
     ]
    }
   ],
   "source": [
    "tmp = ensembled_tasks[endothelial_cells].dropna(how=\"all\")\n",
    "print(len(tmp))\n",
    "display((tmp.isna().transpose().sum(axis=1)) / len(tmp))\n",
    "display((tmp.isna().transpose().sum(axis=1)))\n",
    "print(len(tmp.dropna(how=\"any\")))"
   ]
  }
 ],
 "metadata": {
  "kernelspec": {
   "display_name": "Python 3.9.10 ('base')",
   "language": "python",
   "name": "python3"
  },
  "language_info": {
   "codemirror_mode": {
    "name": "ipython",
    "version": 3
   },
   "file_extension": ".py",
   "mimetype": "text/x-python",
   "name": "python",
   "nbconvert_exporter": "python",
   "pygments_lexer": "ipython3",
   "version": "3.9.10 | packaged by conda-forge | (main, Feb  1 2022, 21:27:43) \n[Clang 11.1.0 ]"
  },
  "orig_nbformat": 4,
  "vscode": {
   "interpreter": {
    "hash": "aa98a7cfca054c33f70b1b98f933bb29fd610054927dca4b481403e32f3903ef"
   }
  }
 },
 "nbformat": 4,
 "nbformat_minor": 2
}
